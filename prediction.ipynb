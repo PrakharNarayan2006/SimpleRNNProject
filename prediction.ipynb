{
 "cells": [
  {
   "cell_type": "code",
   "execution_count": 16,
   "metadata": {},
   "outputs": [],
   "source": [
    "import numpy as np\n",
    "import tensorflow as tf\n",
    "from tensorflow.keras.datasets import imdb\n",
    "from tensorflow.keras.preprocessing import sequence\n",
    "from tensorflow.keras.models import load_model"
   ]
  },
  {
   "cell_type": "code",
   "execution_count": 17,
   "metadata": {},
   "outputs": [],
   "source": [
    "word_index=imdb.get_word_index()\n",
    "reverse_word_index={value:key for key,value in word_index.items()}"
   ]
  },
  {
   "cell_type": "code",
   "execution_count": null,
   "metadata": {},
   "outputs": [
    {
     "name": "stderr",
     "output_type": "stream",
     "text": [
      "WARNING:absl:Compiled the loaded model, but the compiled metrics have yet to be built. `model.compile_metrics` will be empty until you train or evaluate the model.\n"
     ]
    }
   ],
   "source": [
    "model = load_model(\"RnnModel_imdb.h5\")"
   ]
  },
  {
   "cell_type": "code",
   "execution_count": 19,
   "metadata": {},
   "outputs": [
    {
     "data": {
      "text/html": [
       "<pre style=\"white-space:pre;overflow-x:auto;line-height:normal;font-family:Menlo,'DejaVu Sans Mono',consolas,'Courier New',monospace\"><span style=\"font-weight: bold\">Model: \"sequential_1\"</span>\n",
       "</pre>\n"
      ],
      "text/plain": [
       "\u001b[1mModel: \"sequential_1\"\u001b[0m\n"
      ]
     },
     "metadata": {},
     "output_type": "display_data"
    },
    {
     "data": {
      "text/html": [
       "<pre style=\"white-space:pre;overflow-x:auto;line-height:normal;font-family:Menlo,'DejaVu Sans Mono',consolas,'Courier New',monospace\">┏━━━━━━━━━━━━━━━━━━━━━━━━━━━━━━━━━┳━━━━━━━━━━━━━━━━━━━━━━━━┳━━━━━━━━━━━━━━━┓\n",
       "┃<span style=\"font-weight: bold\"> Layer (type)                    </span>┃<span style=\"font-weight: bold\"> Output Shape           </span>┃<span style=\"font-weight: bold\">       Param # </span>┃\n",
       "┡━━━━━━━━━━━━━━━━━━━━━━━━━━━━━━━━━╇━━━━━━━━━━━━━━━━━━━━━━━━╇━━━━━━━━━━━━━━━┩\n",
       "│ embedding_1 (<span style=\"color: #0087ff; text-decoration-color: #0087ff\">Embedding</span>)         │ (<span style=\"color: #00d7ff; text-decoration-color: #00d7ff\">None</span>, <span style=\"color: #00af00; text-decoration-color: #00af00\">500</span>, <span style=\"color: #00af00; text-decoration-color: #00af00\">128</span>)       │     <span style=\"color: #00af00; text-decoration-color: #00af00\">1,280,000</span> │\n",
       "├─────────────────────────────────┼────────────────────────┼───────────────┤\n",
       "│ simple_rnn_1 (<span style=\"color: #0087ff; text-decoration-color: #0087ff\">SimpleRNN</span>)        │ (<span style=\"color: #00d7ff; text-decoration-color: #00d7ff\">None</span>, <span style=\"color: #00af00; text-decoration-color: #00af00\">128</span>)            │        <span style=\"color: #00af00; text-decoration-color: #00af00\">32,896</span> │\n",
       "├─────────────────────────────────┼────────────────────────┼───────────────┤\n",
       "│ dense_1 (<span style=\"color: #0087ff; text-decoration-color: #0087ff\">Dense</span>)                 │ (<span style=\"color: #00d7ff; text-decoration-color: #00d7ff\">None</span>, <span style=\"color: #00af00; text-decoration-color: #00af00\">1</span>)              │           <span style=\"color: #00af00; text-decoration-color: #00af00\">129</span> │\n",
       "└─────────────────────────────────┴────────────────────────┴───────────────┘\n",
       "</pre>\n"
      ],
      "text/plain": [
       "┏━━━━━━━━━━━━━━━━━━━━━━━━━━━━━━━━━┳━━━━━━━━━━━━━━━━━━━━━━━━┳━━━━━━━━━━━━━━━┓\n",
       "┃\u001b[1m \u001b[0m\u001b[1mLayer (type)                   \u001b[0m\u001b[1m \u001b[0m┃\u001b[1m \u001b[0m\u001b[1mOutput Shape          \u001b[0m\u001b[1m \u001b[0m┃\u001b[1m \u001b[0m\u001b[1m      Param #\u001b[0m\u001b[1m \u001b[0m┃\n",
       "┡━━━━━━━━━━━━━━━━━━━━━━━━━━━━━━━━━╇━━━━━━━━━━━━━━━━━━━━━━━━╇━━━━━━━━━━━━━━━┩\n",
       "│ embedding_1 (\u001b[38;5;33mEmbedding\u001b[0m)         │ (\u001b[38;5;45mNone\u001b[0m, \u001b[38;5;34m500\u001b[0m, \u001b[38;5;34m128\u001b[0m)       │     \u001b[38;5;34m1,280,000\u001b[0m │\n",
       "├─────────────────────────────────┼────────────────────────┼───────────────┤\n",
       "│ simple_rnn_1 (\u001b[38;5;33mSimpleRNN\u001b[0m)        │ (\u001b[38;5;45mNone\u001b[0m, \u001b[38;5;34m128\u001b[0m)            │        \u001b[38;5;34m32,896\u001b[0m │\n",
       "├─────────────────────────────────┼────────────────────────┼───────────────┤\n",
       "│ dense_1 (\u001b[38;5;33mDense\u001b[0m)                 │ (\u001b[38;5;45mNone\u001b[0m, \u001b[38;5;34m1\u001b[0m)              │           \u001b[38;5;34m129\u001b[0m │\n",
       "└─────────────────────────────────┴────────────────────────┴───────────────┘\n"
      ]
     },
     "metadata": {},
     "output_type": "display_data"
    },
    {
     "data": {
      "text/html": [
       "<pre style=\"white-space:pre;overflow-x:auto;line-height:normal;font-family:Menlo,'DejaVu Sans Mono',consolas,'Courier New',monospace\"><span style=\"font-weight: bold\"> Total params: </span><span style=\"color: #00af00; text-decoration-color: #00af00\">1,313,027</span> (5.01 MB)\n",
       "</pre>\n"
      ],
      "text/plain": [
       "\u001b[1m Total params: \u001b[0m\u001b[38;5;34m1,313,027\u001b[0m (5.01 MB)\n"
      ]
     },
     "metadata": {},
     "output_type": "display_data"
    },
    {
     "data": {
      "text/html": [
       "<pre style=\"white-space:pre;overflow-x:auto;line-height:normal;font-family:Menlo,'DejaVu Sans Mono',consolas,'Courier New',monospace\"><span style=\"font-weight: bold\"> Trainable params: </span><span style=\"color: #00af00; text-decoration-color: #00af00\">1,313,025</span> (5.01 MB)\n",
       "</pre>\n"
      ],
      "text/plain": [
       "\u001b[1m Trainable params: \u001b[0m\u001b[38;5;34m1,313,025\u001b[0m (5.01 MB)\n"
      ]
     },
     "metadata": {},
     "output_type": "display_data"
    },
    {
     "data": {
      "text/html": [
       "<pre style=\"white-space:pre;overflow-x:auto;line-height:normal;font-family:Menlo,'DejaVu Sans Mono',consolas,'Courier New',monospace\"><span style=\"font-weight: bold\"> Non-trainable params: </span><span style=\"color: #00af00; text-decoration-color: #00af00\">0</span> (0.00 B)\n",
       "</pre>\n"
      ],
      "text/plain": [
       "\u001b[1m Non-trainable params: \u001b[0m\u001b[38;5;34m0\u001b[0m (0.00 B)\n"
      ]
     },
     "metadata": {},
     "output_type": "display_data"
    },
    {
     "data": {
      "text/html": [
       "<pre style=\"white-space:pre;overflow-x:auto;line-height:normal;font-family:Menlo,'DejaVu Sans Mono',consolas,'Courier New',monospace\"><span style=\"font-weight: bold\"> Optimizer params: </span><span style=\"color: #00af00; text-decoration-color: #00af00\">2</span> (12.00 B)\n",
       "</pre>\n"
      ],
      "text/plain": [
       "\u001b[1m Optimizer params: \u001b[0m\u001b[38;5;34m2\u001b[0m (12.00 B)\n"
      ]
     },
     "metadata": {},
     "output_type": "display_data"
    }
   ],
   "source": [
    "model.summary()"
   ]
  },
  {
   "cell_type": "code",
   "execution_count": 20,
   "metadata": {},
   "outputs": [
    {
     "data": {
      "text/plain": [
       "[array([[ 0.02714785,  0.07784119,  0.06979924, ..., -0.07559462,\n",
       "          0.00430027,  0.08604607],\n",
       "        [ 0.02472324,  0.06705731, -0.01472226, ...,  0.02452331,\n",
       "         -0.02781228, -0.00030269],\n",
       "        [-0.02698984,  0.06772076, -0.0451498 , ...,  0.01231435,\n",
       "         -0.01005011, -0.01195711],\n",
       "        ...,\n",
       "        [-0.00222358,  0.02093184,  0.0075109 , ..., -0.00716595,\n",
       "         -0.01515056, -0.01944164],\n",
       "        [-0.02226308, -0.01179641, -0.00438641, ...,  0.0691492 ,\n",
       "         -0.05163845, -0.01597486],\n",
       "        [ 0.01881482, -0.03590976,  0.03621079, ...,  0.02440124,\n",
       "         -0.05451811, -0.00046693]], dtype=float32),\n",
       " array([[-0.01809425,  0.07370508, -0.02171067, ..., -0.0643262 ,\n",
       "         -0.03978287,  0.10604328],\n",
       "        [-0.05600789, -0.134723  , -0.12021171, ..., -0.03918596,\n",
       "          0.04379347, -0.03011411],\n",
       "        [-0.06738509, -0.14352772, -0.11684344, ...,  0.08764728,\n",
       "         -0.11584412,  0.1054568 ],\n",
       "        ...,\n",
       "        [ 0.10710029,  0.11791819, -0.07450413, ...,  0.08982465,\n",
       "         -0.14541462, -0.09935956],\n",
       "        [ 0.06050789,  0.15239969, -0.12604001, ..., -0.01440652,\n",
       "          0.02317272, -0.00458422],\n",
       "        [-0.04231871, -0.08861002,  0.02866242, ...,  0.07595848,\n",
       "         -0.05829899, -0.05677409]], dtype=float32),\n",
       " array([[ 0.01193424,  0.08362025,  0.1342395 , ..., -0.07403234,\n",
       "          0.08133217,  0.0499326 ],\n",
       "        [-0.04430398,  0.0231412 , -0.04477228, ..., -0.08689848,\n",
       "          0.06454773, -0.03274932],\n",
       "        [-0.0609313 ,  0.18270056, -0.03087564, ..., -0.02052802,\n",
       "          0.19215222, -0.09621567],\n",
       "        ...,\n",
       "        [ 0.00747483,  0.05044837, -0.05683102, ...,  0.01080518,\n",
       "         -0.03451955, -0.04174662],\n",
       "        [ 0.07887824, -0.12214693,  0.00948751, ...,  0.06161717,\n",
       "          0.06276476,  0.08390003],\n",
       "        [ 0.01065133, -0.06482875,  0.00453341, ...,  0.0665343 ,\n",
       "         -0.01389167, -0.18624035]], dtype=float32),\n",
       " array([ 0.0139594 ,  0.02374937, -0.02683142, -0.01546138,  0.00554407,\n",
       "        -0.01125556,  0.00799572, -0.01140757, -0.01242025, -0.02361978,\n",
       "         0.01206918,  0.01382064, -0.03880858, -0.01561554,  0.02488948,\n",
       "        -0.01051476, -0.01810406, -0.00036638, -0.00927922, -0.01713952,\n",
       "        -0.02703318, -0.0326865 , -0.0076966 , -0.00885606, -0.01989608,\n",
       "         0.02240654,  0.02505036, -0.01267266, -0.01590622, -0.02556307,\n",
       "        -0.01285783, -0.01404555, -0.00504948,  0.00101928,  0.04107082,\n",
       "         0.00813244,  0.00656649, -0.01092457,  0.00566741,  0.00010733,\n",
       "         0.00793005, -0.02098527, -0.0152883 ,  0.00998459,  0.02271179,\n",
       "        -0.01896837, -0.01226636, -0.02800042, -0.01283778, -0.0107055 ,\n",
       "         0.01747577,  0.01795717,  0.01024942, -0.01023899,  0.02500707,\n",
       "        -0.01071473, -0.02173678,  0.03040641,  0.00097934, -0.02756237,\n",
       "        -0.02093253, -0.01700465, -0.01498253,  0.00854397, -0.00687154,\n",
       "        -0.02222994, -0.01956961,  0.00070906,  0.02046709,  0.01051512,\n",
       "        -0.01223339, -0.0176628 , -0.00949611,  0.00627151, -0.04449743,\n",
       "        -0.01571278,  0.01964538, -0.03241955, -0.01241643, -0.02460542,\n",
       "         0.07356882, -0.02643913, -0.01342548, -0.04066058,  0.00291782,\n",
       "         0.0094417 , -0.02719931, -0.01143345,  0.03433422, -0.01716807,\n",
       "        -0.00735578, -0.00948379, -0.01964911, -0.0075348 , -0.01931324,\n",
       "        -0.02884642, -0.0062011 , -0.00840102, -0.03151911,  0.00785286,\n",
       "         0.01701506, -0.01380811, -0.00826918,  0.00412108,  0.03170496,\n",
       "        -0.00611351,  0.02638543, -0.01217868, -0.01103555, -0.02999073,\n",
       "        -0.01857911,  0.02401487,  0.00522847,  0.00637777, -0.00615112,\n",
       "        -0.01533084, -0.0036307 ,  0.00498174, -0.01145415, -0.00579614,\n",
       "        -0.00847542, -0.02116124, -0.01608226, -0.00384058, -0.00601144,\n",
       "        -0.00594731,  0.03771483, -0.01277038], dtype=float32),\n",
       " array([[ 0.22032692],\n",
       "        [-0.02679505],\n",
       "        [ 0.17842782],\n",
       "        [ 0.04888718],\n",
       "        [-0.1334646 ],\n",
       "        [-0.07545931],\n",
       "        [ 0.14306723],\n",
       "        [-0.07466383],\n",
       "        [-0.09116604],\n",
       "        [ 0.20710564],\n",
       "        [ 0.09593029],\n",
       "        [-0.02400014],\n",
       "        [-0.02863296],\n",
       "        [ 0.22227405],\n",
       "        [-0.24303317],\n",
       "        [ 0.21749787],\n",
       "        [ 0.00997682],\n",
       "        [ 0.23605871],\n",
       "        [ 0.01022472],\n",
       "        [ 0.04733767],\n",
       "        [ 0.2140262 ],\n",
       "        [-0.03195574],\n",
       "        [ 0.20008862],\n",
       "        [-0.12327167],\n",
       "        [ 0.13236381],\n",
       "        [-0.21846046],\n",
       "        [-0.22502984],\n",
       "        [ 0.02206348],\n",
       "        [ 0.02824343],\n",
       "        [-0.05794584],\n",
       "        [-0.21685338],\n",
       "        [ 0.05535376],\n",
       "        [ 0.22119385],\n",
       "        [-0.14127608],\n",
       "        [ 0.17155407],\n",
       "        [-0.06969117],\n",
       "        [ 0.3890082 ],\n",
       "        [ 0.10799063],\n",
       "        [-0.22882257],\n",
       "        [ 0.1694414 ],\n",
       "        [-0.15345916],\n",
       "        [ 0.20168407],\n",
       "        [ 0.16878393],\n",
       "        [ 0.4640454 ],\n",
       "        [-0.16883571],\n",
       "        [ 0.08995777],\n",
       "        [ 0.08633813],\n",
       "        [ 0.1502989 ],\n",
       "        [ 0.08124727],\n",
       "        [ 0.31707877],\n",
       "        [-0.14990781],\n",
       "        [ 0.3400409 ],\n",
       "        [-0.1869922 ],\n",
       "        [ 0.14531882],\n",
       "        [-0.03738032],\n",
       "        [ 0.14343646],\n",
       "        [-0.02307431],\n",
       "        [-0.03791702],\n",
       "        [-0.19183536],\n",
       "        [-0.2513275 ],\n",
       "        [ 0.12304891],\n",
       "        [-0.16885921],\n",
       "        [ 0.18161255],\n",
       "        [-0.00725604],\n",
       "        [-0.0070284 ],\n",
       "        [ 0.03992238],\n",
       "        [ 0.17008963],\n",
       "        [-0.18905559],\n",
       "        [-0.1489496 ],\n",
       "        [ 0.10080326],\n",
       "        [-0.00814413],\n",
       "        [ 0.01394021],\n",
       "        [ 0.12680995],\n",
       "        [-0.15036194],\n",
       "        [-0.02367516],\n",
       "        [-0.21146668],\n",
       "        [-0.17095464],\n",
       "        [ 0.01497549],\n",
       "        [ 0.09824213],\n",
       "        [ 0.133345  ],\n",
       "        [ 0.40714785],\n",
       "        [-0.01406104],\n",
       "        [-0.08312922],\n",
       "        [ 0.17337179],\n",
       "        [-0.39469185],\n",
       "        [ 0.06648467],\n",
       "        [-0.06373232],\n",
       "        [ 0.28718877],\n",
       "        [-0.03188488],\n",
       "        [ 0.15732267],\n",
       "        [ 0.16436253],\n",
       "        [ 0.15707773],\n",
       "        [ 0.03924271],\n",
       "        [ 0.19235305],\n",
       "        [ 0.08871536],\n",
       "        [ 0.08570433],\n",
       "        [-0.05786538],\n",
       "        [-0.08956526],\n",
       "        [-0.05355597],\n",
       "        [-0.05636865],\n",
       "        [-0.15054609],\n",
       "        [ 0.19335504],\n",
       "        [ 0.12539297],\n",
       "        [ 0.18271011],\n",
       "        [-0.01092821],\n",
       "        [-0.20165351],\n",
       "        [-0.05488997],\n",
       "        [ 0.09584978],\n",
       "        [ 0.12058634],\n",
       "        [ 0.00835728],\n",
       "        [-0.10739501],\n",
       "        [-0.09002718],\n",
       "        [ 0.24524543],\n",
       "        [ 0.15916638],\n",
       "        [ 0.37673223],\n",
       "        [-0.21511097],\n",
       "        [ 0.08763327],\n",
       "        [ 0.08391799],\n",
       "        [-0.11534556],\n",
       "        [-0.17891808],\n",
       "        [ 0.06749397],\n",
       "        [-0.1792196 ],\n",
       "        [ 0.2280233 ],\n",
       "        [ 0.27115014],\n",
       "        [-0.03676778],\n",
       "        [ 0.14880171],\n",
       "        [ 0.3671419 ],\n",
       "        [ 0.05611508]], dtype=float32),\n",
       " array([0.11828712], dtype=float32)]"
      ]
     },
     "execution_count": 20,
     "metadata": {},
     "output_type": "execute_result"
    }
   ],
   "source": [
    "model.get_weights()"
   ]
  },
  {
   "cell_type": "code",
   "execution_count": 21,
   "metadata": {},
   "outputs": [],
   "source": [
    "## Function to decode reviews\n",
    "def decode_review(encoded_review):\n",
    "    return \" \".join(reverse_word_index[i] for i in encoded_review)\n",
    "\n",
    "\n",
    "## Function to preprocess user input\n",
    "def preprocess_text(text):\n",
    "    words = text.lower().split()\n",
    "    encoded_review = [word_index.get(word,2) +3 for word in words]\n",
    "    padded_review = sequence.pad_sequences([encoded_review], maxlen=500)\n",
    "    return padded_review"
   ]
  },
  {
   "cell_type": "code",
   "execution_count": 22,
   "metadata": {},
   "outputs": [],
   "source": [
    "## Prediction Function\n",
    "\n",
    "def predict_sentiment(review):\n",
    "    preprocessed_input=preprocess_text(review)\n",
    "    \n",
    "    prediction=model.predict(preprocessed_input)\n",
    "    \n",
    "    sentiment = 'Positive' if prediction[0][0] > 0.5 else 'Negative'\n",
    "    \n",
    "    return sentiment, prediction[0][0]\n",
    "\n"
   ]
  },
  {
   "cell_type": "code",
   "execution_count": 23,
   "metadata": {},
   "outputs": [
    {
     "name": "stdout",
     "output_type": "stream",
     "text": [
      "\u001b[1m1/1\u001b[0m \u001b[32m━━━━━━━━━━━━━━━━━━━━\u001b[0m\u001b[37m\u001b[0m \u001b[1m0s\u001b[0m 137ms/step\n",
      "Review: This movie was fantastic! The acting was great and the plot was thrilling.\n",
      "Sentiment: Positive\n",
      "Prediction Score: 0.622713029384613\n"
     ]
    }
   ],
   "source": [
    "# Step 4: User Input and Prediction\n",
    "# Example review for prediction\n",
    "\n",
    "example_review = \"This movie was fantastic! The acting was great and the plot was thrilling.\"\n",
    "\n",
    "sentiment,score=predict_sentiment(example_review)\n",
    "\n",
    "print(f'Review: {example_review}')\n",
    "print(f'Sentiment: {sentiment}')\n",
    "print(f'Prediction Score: {score}')"
   ]
  }
 ],
 "metadata": {
  "kernelspec": {
   "display_name": "Python 3",
   "language": "python",
   "name": "python3"
  },
  "language_info": {
   "codemirror_mode": {
    "name": "ipython",
    "version": 3
   },
   "file_extension": ".py",
   "mimetype": "text/x-python",
   "name": "python",
   "nbconvert_exporter": "python",
   "pygments_lexer": "ipython3",
   "version": "3.11.9"
  }
 },
 "nbformat": 4,
 "nbformat_minor": 2
}
